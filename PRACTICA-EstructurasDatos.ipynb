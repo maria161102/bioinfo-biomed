{
 "cells": [
  {
   "cell_type": "markdown",
   "id": "57e5a4ba",
   "metadata": {},
   "source": [
    "# PRACTICA Estructuras de Datos\n",
    "\n",
    "### Resuelve las siguientes preguntas empleando lo aprendido con las estructuras de Datos\n",
    "\n",
    "#### Esta práctica se entrega el día 22 de octubre a las 23:59\n",
    "#### Cuenta el 5% de la nota"
   ]
  },
  {
   "cell_type": "markdown",
   "id": "092831f1",
   "metadata": {},
   "source": [
    "Pon el código debajo de cada pregunta. Añade tantas celdas de código como necesites."
   ]
  },
  {
   "cell_type": "markdown",
   "id": "94b6abb8",
   "metadata": {},
   "source": [
    "#### 1.- Escribe una ecuación que emplee multiplicación, división, un exponente, suma y resta y que sea igual a 100.25."
   ]
  },
  {
   "cell_type": "code",
   "execution_count": 10,
   "id": "83423ac9",
   "metadata": {},
   "outputs": [
    {
     "data": {
      "text/plain": [
       "100.25"
      ]
     },
     "execution_count": 10,
     "metadata": {},
     "output_type": "execute_result"
    }
   ],
   "source": [
    "((10**3)/10)*2-100+0.25"
   ]
  },
  {
   "cell_type": "markdown",
   "id": "95ec00dc",
   "metadata": {},
   "source": [
    "#### 2.- ¿Qué harías para obtener la raíz cuadrada de 100?"
   ]
  },
  {
   "cell_type": "code",
   "execution_count": 11,
   "id": "bc0163d7",
   "metadata": {},
   "outputs": [
    {
     "data": {
      "text/plain": [
       "10.0"
      ]
     },
     "execution_count": 11,
     "metadata": {},
     "output_type": "execute_result"
    }
   ],
   "source": [
    "100**0.5"
   ]
  },
  {
   "cell_type": "markdown",
   "id": "95232620",
   "metadata": {},
   "source": [
    "#### 3.- ¿Y el cuadrado de 100?"
   ]
  },
  {
   "cell_type": "code",
   "execution_count": 12,
   "id": "8c57ca47",
   "metadata": {},
   "outputs": [
    {
     "data": {
      "text/plain": [
       "10000"
      ]
     },
     "execution_count": 12,
     "metadata": {},
     "output_type": "execute_result"
    }
   ],
   "source": [
    "100**2"
   ]
  },
  {
   "cell_type": "markdown",
   "id": "7fc5bfae",
   "metadata": {},
   "source": [
    "#### 4.- Tenemos la string 'hello'.\n",
    "#### Primero devuelve la letra 'e'\n",
    "#### Luego dale la vuelta a la string \n",
    "#### Después usa dos métodos para devolver la letra 'o'"
   ]
  },
  {
   "cell_type": "code",
   "execution_count": 16,
   "id": "a6d0eb90",
   "metadata": {},
   "outputs": [],
   "source": [
    "s = 'hello'"
   ]
  },
  {
   "cell_type": "code",
   "execution_count": 18,
   "id": "be361235",
   "metadata": {},
   "outputs": [
    {
     "data": {
      "text/plain": [
       "'e'"
      ]
     },
     "execution_count": 18,
     "metadata": {},
     "output_type": "execute_result"
    }
   ],
   "source": [
    "s[1]"
   ]
  },
  {
   "cell_type": "code",
   "execution_count": 17,
   "id": "9b5b4451",
   "metadata": {},
   "outputs": [
    {
     "data": {
      "text/plain": [
       "'olleh'"
      ]
     },
     "execution_count": 17,
     "metadata": {},
     "output_type": "execute_result"
    }
   ],
   "source": [
    "s[::-1]"
   ]
  },
  {
   "cell_type": "code",
   "execution_count": 19,
   "id": "91039503",
   "metadata": {},
   "outputs": [
    {
     "data": {
      "text/plain": [
       "'o'"
      ]
     },
     "execution_count": 19,
     "metadata": {},
     "output_type": "execute_result"
    }
   ],
   "source": [
    "s[4]"
   ]
  },
  {
   "cell_type": "code",
   "execution_count": 28,
   "id": "18a119bf",
   "metadata": {},
   "outputs": [
    {
     "data": {
      "text/plain": [
       "'o'"
      ]
     },
     "execution_count": 28,
     "metadata": {},
     "output_type": "execute_result"
    }
   ],
   "source": [
    "s[-1]"
   ]
  },
  {
   "cell_type": "markdown",
   "id": "0febc918",
   "metadata": {},
   "source": [
    "#### 5.- Crear una lista que contenga esto [0,0,0] de dos formas distintas"
   ]
  },
  {
   "cell_type": "code",
   "execution_count": 30,
   "id": "2bd51f36",
   "metadata": {},
   "outputs": [
    {
     "data": {
      "text/plain": [
       "[0, 0, 0]"
      ]
     },
     "execution_count": 30,
     "metadata": {},
     "output_type": "execute_result"
    }
   ],
   "source": [
    "lista=[0,0,0]\n",
    "lista"
   ]
  },
  {
   "cell_type": "code",
   "execution_count": 32,
   "id": "4777ff78",
   "metadata": {},
   "outputs": [
    {
     "data": {
      "text/plain": [
       "[0, 0, 0]"
      ]
     },
     "execution_count": 32,
     "metadata": {},
     "output_type": "execute_result"
    }
   ],
   "source": [
    "lista2=[0]*3"
   ]
  },
  {
   "cell_type": "code",
   "execution_count": 33,
   "id": "020cce6a",
   "metadata": {},
   "outputs": [
    {
     "data": {
      "text/plain": [
       "[0, 0, 0]"
      ]
     },
     "execution_count": 33,
     "metadata": {},
     "output_type": "execute_result"
    }
   ],
   "source": [
    "lista2"
   ]
  },
  {
   "cell_type": "markdown",
   "id": "80e1a951",
   "metadata": {},
   "source": [
    "#### 6.- Reasigna 'hello' en la lista a continuación para que diga 'goodbye'"
   ]
  },
  {
   "cell_type": "code",
   "execution_count": 34,
   "id": "20d1ebdf",
   "metadata": {},
   "outputs": [],
   "source": [
    "lista = [1,2,[3,4,'hello']]"
   ]
  },
  {
   "cell_type": "code",
   "execution_count": 39,
   "id": "356eecc3",
   "metadata": {},
   "outputs": [],
   "source": [
    "lista[-1][-1]=\"goodbye\""
   ]
  },
  {
   "cell_type": "code",
   "execution_count": 40,
   "id": "3639692e",
   "metadata": {},
   "outputs": [
    {
     "data": {
      "text/plain": [
       "[1, 2, [3, 4, 'goodbye']]"
      ]
     },
     "execution_count": 40,
     "metadata": {},
     "output_type": "execute_result"
    }
   ],
   "source": [
    "lista"
   ]
  },
  {
   "cell_type": "markdown",
   "id": "77e38490",
   "metadata": {},
   "source": [
    "#### 7.- Ordena la siguiente lista"
   ]
  },
  {
   "cell_type": "code",
   "execution_count": 47,
   "id": "bc957d55",
   "metadata": {},
   "outputs": [],
   "source": [
    "listaSinOrdenar = [5,3,4,6,1]"
   ]
  },
  {
   "cell_type": "code",
   "execution_count": 48,
   "id": "c3fe4131",
   "metadata": {},
   "outputs": [],
   "source": [
    "listaSinOrdenar.sort()"
   ]
  },
  {
   "cell_type": "code",
   "execution_count": 49,
   "id": "4b89118f",
   "metadata": {},
   "outputs": [
    {
     "data": {
      "text/plain": [
       "[1, 3, 4, 5, 6]"
      ]
     },
     "execution_count": 49,
     "metadata": {},
     "output_type": "execute_result"
    }
   ],
   "source": [
    "listaSinOrdenar"
   ]
  },
  {
   "cell_type": "markdown",
   "id": "0cc790ac",
   "metadata": {},
   "source": [
    "#### 8.- En los siguientes diccionarios, extrae el valor de 'hello'"
   ]
  },
  {
   "cell_type": "code",
   "execution_count": 71,
   "id": "c390a0bb",
   "metadata": {},
   "outputs": [],
   "source": [
    "f = {'k1':{'k2':'hello'}}"
   ]
  },
  {
   "cell_type": "code",
   "execution_count": 72,
   "id": "b06b8edf",
   "metadata": {},
   "outputs": [
    {
     "data": {
      "text/plain": [
       "'hello'"
      ]
     },
     "execution_count": 72,
     "metadata": {},
     "output_type": "execute_result"
    }
   ],
   "source": [
    "f[\"k1\"][\"k2\"]"
   ]
  },
  {
   "cell_type": "code",
   "execution_count": 52,
   "id": "c0244e1f",
   "metadata": {},
   "outputs": [],
   "source": [
    "d = {'key1':'hello'}"
   ]
  },
  {
   "cell_type": "code",
   "execution_count": 56,
   "id": "0422963d",
   "metadata": {},
   "outputs": [
    {
     "data": {
      "text/plain": [
       "'hello'"
      ]
     },
     "execution_count": 56,
     "metadata": {},
     "output_type": "execute_result"
    }
   ],
   "source": [
    "d[\"key1\"]"
   ]
  },
  {
   "cell_type": "code",
   "execution_count": 73,
   "id": "344d780b",
   "metadata": {},
   "outputs": [],
   "source": [
    "g = {'k1':[{'o1':['valor escondido',['hello']]}]}"
   ]
  },
  {
   "cell_type": "code",
   "execution_count": 78,
   "id": "2384eea3",
   "metadata": {},
   "outputs": [
    {
     "data": {
      "text/plain": [
       "'hello'"
      ]
     },
     "execution_count": 78,
     "metadata": {},
     "output_type": "execute_result"
    }
   ],
   "source": [
    "g[\"k1\"][0][\"o1\"][1][0]"
   ]
  },
  {
   "cell_type": "markdown",
   "id": "5a45472f",
   "metadata": {},
   "source": [
    "h = {'k1':[1,2,{'k2':['complicado',{'dificil':[1,2,['hello']]}]}]}"
   ]
  },
  {
   "cell_type": "code",
   "execution_count": 92,
   "id": "04564205",
   "metadata": {},
   "outputs": [
    {
     "data": {
      "text/plain": [
       "'hello'"
      ]
     },
     "execution_count": 92,
     "metadata": {},
     "output_type": "execute_result"
    }
   ],
   "source": [
    "h[\"k1\"][2][\"k2\"][1][\"dificil\"][2][0]"
   ]
  },
  {
   "cell_type": "markdown",
   "id": "7692eea8",
   "metadata": {},
   "source": [
    "#### 9.- Crea una tupla"
   ]
  },
  {
   "cell_type": "code",
   "execution_count": 95,
   "id": "ebf8c41e",
   "metadata": {},
   "outputs": [
    {
     "data": {
      "text/plain": [
       "(0, 0, 0)"
      ]
     },
     "execution_count": 95,
     "metadata": {},
     "output_type": "execute_result"
    }
   ],
   "source": [
    "tupla = (1,0,0)\n",
    "tupla"
   ]
  },
  {
   "cell_type": "code",
   "execution_count": 99,
   "id": "956314fd",
   "metadata": {},
   "outputs": [
    {
     "ename": "TypeError",
     "evalue": "'tuple' object does not support item assignment",
     "output_type": "error",
     "traceback": [
      "\u001b[0;31m---------------------------------------------------------------------------\u001b[0m",
      "\u001b[0;31mTypeError\u001b[0m                                 Traceback (most recent call last)",
      "Cell \u001b[0;32mIn[99], line 2\u001b[0m\n\u001b[1;32m      1\u001b[0m \u001b[38;5;66;03m#no se pueden modificar los elementos de tupla. Comprobamos\u001b[39;00m\n\u001b[0;32m----> 2\u001b[0m tupla[\u001b[38;5;241m1\u001b[39m]\u001b[38;5;241m=\u001b[39m\u001b[38;5;241m2\u001b[39m\n",
      "\u001b[0;31mTypeError\u001b[0m: 'tuple' object does not support item assignment"
     ]
    }
   ],
   "source": [
    "#no se pueden modificar los elementos de tupla. Comprobamos\n",
    "tupla[1]=2"
   ]
  },
  {
   "cell_type": "markdown",
   "id": "6231d723",
   "metadata": {},
   "source": [
    "#### 10.- Emplea los sets para encontrar los valores únicos de esta lista"
   ]
  },
  {
   "cell_type": "code",
   "execution_count": 101,
   "id": "a7cbba3a",
   "metadata": {},
   "outputs": [],
   "source": [
    "listaDuplicada = [1,2,2,33,4,4,11,22,3,3,2]"
   ]
  },
  {
   "cell_type": "code",
   "execution_count": 109,
   "id": "38a3fb0c",
   "metadata": {},
   "outputs": [],
   "source": [
    "miset=set(listaDuplicada)"
   ]
  },
  {
   "cell_type": "code",
   "execution_count": 110,
   "id": "144dc178",
   "metadata": {},
   "outputs": [
    {
     "data": {
      "text/plain": [
       "{1, 2, 3, 4, 11, 22, 33}"
      ]
     },
     "execution_count": 110,
     "metadata": {},
     "output_type": "execute_result"
    }
   ],
   "source": [
    "miset"
   ]
  },
  {
   "cell_type": "markdown",
   "id": "9b217cfc",
   "metadata": {},
   "source": [
    "#### 11.- Haz las siguientes comparaciones:\n",
    "#### Dos mayor que tres\n",
    "#### Tres igual que 2\n",
    "#### La raíz cuadrada de cuatro no es igual a 2"
   ]
  },
  {
   "cell_type": "code",
   "execution_count": 111,
   "id": "8b8a5e24",
   "metadata": {},
   "outputs": [
    {
     "data": {
      "text/plain": [
       "False"
      ]
     },
     "execution_count": 111,
     "metadata": {},
     "output_type": "execute_result"
    }
   ],
   "source": [
    "2>3"
   ]
  },
  {
   "cell_type": "code",
   "execution_count": 113,
   "id": "f4faaeda",
   "metadata": {},
   "outputs": [
    {
     "data": {
      "text/plain": [
       "False"
      ]
     },
     "execution_count": 113,
     "metadata": {},
     "output_type": "execute_result"
    }
   ],
   "source": [
    "3==2"
   ]
  },
  {
   "cell_type": "code",
   "execution_count": 114,
   "id": "749c4a06",
   "metadata": {},
   "outputs": [
    {
     "data": {
      "text/plain": [
       "False"
      ]
     },
     "execution_count": 114,
     "metadata": {},
     "output_type": "execute_result"
    }
   ],
   "source": [
    "4**0.5!=2"
   ]
  }
 ],
 "metadata": {
  "kernelspec": {
   "display_name": "Python 3 (ipykernel)",
   "language": "python",
   "name": "python3"
  },
  "language_info": {
   "codemirror_mode": {
    "name": "ipython",
    "version": 3
   },
   "file_extension": ".py",
   "mimetype": "text/x-python",
   "name": "python",
   "nbconvert_exporter": "python",
   "pygments_lexer": "ipython3",
   "version": "3.11.4"
  }
 },
 "nbformat": 4,
 "nbformat_minor": 5
}
