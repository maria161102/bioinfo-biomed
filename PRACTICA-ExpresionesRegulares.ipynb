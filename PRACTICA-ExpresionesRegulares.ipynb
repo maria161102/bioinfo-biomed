{
 "cells": [
  {
   "cell_type": "markdown",
   "metadata": {},
   "source": [
    "# PRACTICA Expresiones Regulares\n",
    "\n",
    "#### Esta práctica se entrega el día 22 de Octubre a las 23:59\n",
    "#### Cuenta el 5% de la nota\n",
    "\n",
    "#### De la lista de accessions que se proporciona obtén lo siguiente:\n",
    "1. Los que tengan el número 5\n",
    "2. Los que tengan la letra 'd' o la 'e'\n",
    "3. Los que tengan las letras 'd' y 'e' en ese orden\n",
    "4. Los que tengan las letras 'd' y 'e' en ese orden con una letra cualquiera en medio\n",
    "5. Los que tengan ambas letras 'd' y 'e' en cualquier orden\n",
    "6. Los que empiezan por 'x' o por 'y'\n",
    "7. Los que empiezan por 'x' o 'y' y terminan por 'e'\n",
    "8. Los que tienen tres o más dígitos seguidos\n",
    "9. Los que terminan con 'd' seguidos de 'a' o 'r' o 'p'"
   ]
  },
  {
   "cell_type": "code",
   "execution_count": 1,
   "metadata": {},
   "outputs": [],
   "source": [
    "import re"
   ]
  },
  {
   "cell_type": "code",
   "execution_count": 2,
   "metadata": {},
   "outputs": [],
   "source": [
    "accs = ['xkn59438', 'yhdck2', 'eihd39d9', 'chdsye847', 'hedle3455', 'xjhd53e', '45da', 'de37dp']"
   ]
  },
  {
   "cell_type": "code",
   "execution_count": 16,
   "metadata": {},
   "outputs": [
    {
     "name": "stdout",
     "output_type": "stream",
     "text": [
      "contiene 5:\n",
      "xkn59438\n",
      "hedle3455\n",
      "xjhd53e\n",
      "45da\n"
     ]
    }
   ],
   "source": [
    "print(\"contiene 5:\")\n",
    "for elemento in accs:\n",
    "   if re.search(r\"5\",elemento):\n",
    "    print(elemento)"
   ]
  },
  {
   "cell_type": "code",
   "execution_count": 17,
   "metadata": {},
   "outputs": [
    {
     "name": "stdout",
     "output_type": "stream",
     "text": [
      "contiene d o e:\n",
      "yhdck2\n",
      "eihd39d9\n",
      "chdsye847\n",
      "hedle3455\n",
      "xjhd53e\n",
      "45da\n",
      "de37dp\n"
     ]
    }
   ],
   "source": [
    "print(\"contiene d o e:\")\n",
    "for elemento in accs:\n",
    "    if re.search(r\"d\", elemento) or re.search(r\"e\", elemento):\n",
    "        print (elemento)"
   ]
  },
  {
   "cell_type": "code",
   "execution_count": 23,
   "metadata": {},
   "outputs": [
    {
     "name": "stdout",
     "output_type": "stream",
     "text": [
      "contiene d y e en ese orden:\n",
      "chdsye847\n",
      "hedle3455\n",
      "xjhd53e\n",
      "de37dp\n"
     ]
    }
   ],
   "source": [
    "print (\"contiene d y e en ese orden:\")\n",
    "for elemento in accs:\n",
    "    if re.search(r\"d.*e\", elemento):\n",
    "        print(elemento)"
   ]
  },
  {
   "cell_type": "code",
   "execution_count": 22,
   "metadata": {},
   "outputs": [
    {
     "name": "stdout",
     "output_type": "stream",
     "text": [
      "contiene d y e separados por una letra cualquiera en medio:\n",
      "hedle3455\n"
     ]
    }
   ],
   "source": [
    "print(\"contiene d y e separados por una letra cualquiera en medio:\")\n",
    "for elemento in accs:\n",
    "    if re.search(r\"(d.e)\", elemento):\n",
    "        print (elemento)"
   ]
  },
  {
   "cell_type": "code",
   "execution_count": 24,
   "metadata": {},
   "outputs": [
    {
     "name": "stdout",
     "output_type": "stream",
     "text": [
      "contiene ambas letras d y e en cualquier orden:\n",
      "eihd39d9\n",
      "chdsye847\n",
      "hedle3455\n",
      "xjhd53e\n",
      "de37dp\n"
     ]
    }
   ],
   "source": [
    "print (\"contiene ambas letras d y e en cualquier orden:\")\n",
    "for elemento in accs:\n",
    "    if re.search(r\"d.*e\", elemento) or re.search(r\"e.*d\", elemento):\n",
    "        print(elemento)"
   ]
  },
  {
   "cell_type": "code",
   "execution_count": 29,
   "metadata": {},
   "outputs": [
    {
     "name": "stdout",
     "output_type": "stream",
     "text": [
      "empieza por x o y:\n",
      "xkn59438\n",
      "yhdck2\n",
      "xjhd53e\n"
     ]
    }
   ],
   "source": [
    "print(\"empieza por x o y:\")\n",
    "for elemento in accs:\n",
    "    if re.search(r\"^(x|y)\", elemento):\n",
    "        print(elemento)"
   ]
  },
  {
   "cell_type": "code",
   "execution_count": 31,
   "metadata": {},
   "outputs": [
    {
     "name": "stdout",
     "output_type": "stream",
     "text": [
      "empieza por x o y, y terminan por e:\n",
      "xjhd53e\n"
     ]
    }
   ],
   "source": [
    "print(\"empieza por x o y, y terminan por e:\")\n",
    "for elemento in accs:\n",
    "    if re.search(r\"^(x|y).*e$\", elemento):\n",
    "        print(elemento)"
   ]
  },
  {
   "cell_type": "code",
   "execution_count": 33,
   "metadata": {},
   "outputs": [
    {
     "name": "stdout",
     "output_type": "stream",
     "text": [
      "tiene 3 o más dígitos:\n",
      "xkn59438\n",
      "chdsye847\n",
      "hedle3455\n"
     ]
    }
   ],
   "source": [
    "print(\"tiene 3 o más dígitos:\")\n",
    "for elemento in accs:\n",
    "    if re.search(r\"\\d{3,}\", elemento):\n",
    "        print(elemento)"
   ]
  },
  {
   "cell_type": "code",
   "execution_count": 34,
   "metadata": {},
   "outputs": [
    {
     "name": "stdout",
     "output_type": "stream",
     "text": [
      "los que termina en d, seguidos de a, r o p:\n",
      "45da\n",
      "de37dp\n"
     ]
    }
   ],
   "source": [
    "print(\"los que termina en d, seguidos de a, r o p:\")\n",
    "for elemento in accs:\n",
    "    if re.search(r\"d[arp]$\", elemento):\n",
    "        print(elemento)"
   ]
  }
 ],
 "metadata": {
  "kernelspec": {
   "display_name": "Python 3 (ipykernel)",
   "language": "python",
   "name": "python3"
  },
  "language_info": {
   "codemirror_mode": {
    "name": "ipython",
    "version": 3
   },
   "file_extension": ".py",
   "mimetype": "text/x-python",
   "name": "python",
   "nbconvert_exporter": "python",
   "pygments_lexer": "ipython3",
   "version": "3.11.4"
  }
 },
 "nbformat": 4,
 "nbformat_minor": 4
}
