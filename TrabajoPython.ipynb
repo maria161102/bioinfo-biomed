{
 "cells": [
  {
   "cell_type": "markdown",
   "metadata": {},
   "source": [
    "# TRABAJO DE PYTHON\n",
    "\n",
    "### Este trabajo cuenta el 30% de la nota. La entrega será el 5 de Noviembre a las 23:59.\n",
    "\n",
    "### Resuelve los siguientes ejercicios en Python sin usar expresiones regulares\n",
    "\n",
    "#### Utiliza tantas celdas de código como necesites\n",
    "\n",
    "##\n",
    "\n",
    "\n",
    "\n",
    "\n",
    "\n",
    "\n",
    "\n"
   ]
  },
  {
   "cell_type": "markdown",
   "metadata": {},
   "source": [
    "### 1.- BUSCA LA SECUENCIA COMPLEMENTARIA\n",
    "#### Devuelve la secuencia complementaria de la siguiente secuencia de ADN"
   ]
  },
  {
   "cell_type": "code",
   "execution_count": 16,
   "metadata": {},
   "outputs": [],
   "source": [
    "my_dna = \"ACTGATCGATTACGTATAGTATTTGCTATCATACATATATATCGATGCGTTCAT\""
   ]
  },
  {
   "cell_type": "code",
   "execution_count": 17,
   "metadata": {},
   "outputs": [],
   "source": [
    "def secuencia_complementaria(my_dna):\n",
    "    complemento = {'A': 'T', 'T': 'A', 'C': 'G', 'G': 'C'}\n",
    "    complementaria = ''.join(complemento[base] for base in my_dna)\n",
    "    return complementaria"
   ]
  },
  {
   "cell_type": "code",
   "execution_count": 24,
   "metadata": {},
   "outputs": [
    {
     "name": "stdout",
     "output_type": "stream",
     "text": [
      "TGACTAGCTAATGCATATCATAAACGATAGTATGTATATATAGCTACGCAAGTA\n"
     ]
    }
   ],
   "source": [
    "secuencia_complementaria_my_dna = secuencia_complementaria(my_dna)\n",
    "print(secuencia_complementaria_my_dna)"
   ]
  },
  {
   "cell_type": "markdown",
   "metadata": {},
   "source": [
    "##\n",
    "### 2.- FRAGMENTOS DE RESTRICCION\n",
    "#### Obtén los fragmentos de restricción de EcoRI, que tiene un sitio de corte en G*AATTC (la posición de corte se indica por el *).\n",
    "#### No uses expresiones regulares. \n",
    "#### Pista: utiliza la función find()"
   ]
  },
  {
   "cell_type": "code",
   "execution_count": 2,
   "metadata": {
    "scrolled": true
   },
   "outputs": [],
   "source": [
    "my_dna = \"ACTGATCGATTACGTATAGTATTTGCTATGAATTCCATACATATATATCGATGCGTTCAT\""
   ]
  },
  {
   "cell_type": "code",
   "execution_count": 9,
   "metadata": {},
   "outputs": [],
   "source": [
    "sitio_de_corte = my_dna.find(\"AATTC\")"
   ]
  },
  {
   "cell_type": "code",
   "execution_count": 10,
   "metadata": {},
   "outputs": [
    {
     "name": "stdout",
     "output_type": "stream",
     "text": [
      "Fragmento 1: ACTGATCGATTACGTATAGTATTTGCTATG\n",
      "Fragmento 2: ATTCCATACATATATATCGATGCGTTCAT\n"
     ]
    }
   ],
   "source": [
    "if sitio_de_corte != -1:\n",
    "    fragmento1 = my_dna[:sitio_de_corte]\n",
    "    fragmento2 = my_dna[sitio_de_corte + 1:]\n",
    "    print(\"Fragmento 1: \" + fragmento1)\n",
    "    print(\"Fragmento 2: \" + fragmento2)\n",
    "else:\n",
    "    print(\"No se encontró el sitio de corte en la secuencia\")"
   ]
  },
  {
   "cell_type": "markdown",
   "metadata": {},
   "source": [
    "##\n",
    "### 3.- ENCUENTRA LOS EXONES\n",
    "#### Encuentra los exones en la siguiente secuencia\n",
    "1. El primer exón va de la primera base a la base 63 (empieza a contar desde 0)\n",
    "2. El segundo exón va de la base 91 (contando desde 0) hasta el final\n",
    "3. Calcula el porcentaje de secuencia codificante\n",
    "4. Imprime en pantalla la secuencia original con los exones en mayúsculas y los intrones en minúsculas"
   ]
  },
  {
   "cell_type": "code",
   "execution_count": 11,
   "metadata": {},
   "outputs": [],
   "source": [
    "genomic_dna = \"ATCGATCGATCGATCGACTGACTAGTCATAGCTATGCATGTAGCTACTCGATCGATCGATCGATCGATCGATCGATCGATCGATCATGCTATCATCGATCGATATCGATGCATCGACTACTAT\""
   ]
  },
  {
   "cell_type": "code",
   "execution_count": 14,
   "metadata": {},
   "outputs": [
    {
     "name": "stdout",
     "output_type": "stream",
     "text": [
      "Primer exón: ATCGATCGATCGATCGACTGACTAGTCATAGCTATGCATGTAGCTACTCGATCGATCGATCGAT\n"
     ]
    }
   ],
   "source": [
    "# 1.\n",
    "inicio_exon1 = 0\n",
    "fin_exon1 = 63\n",
    "\n",
    "exon1 = genomic_dna[inicio_exon1:fin_exon1 + 1]\n",
    "\n",
    "print(\"Primer exón: \" + exon1)"
   ]
  },
  {
   "cell_type": "code",
   "execution_count": 15,
   "metadata": {},
   "outputs": [
    {
     "name": "stdout",
     "output_type": "stream",
     "text": [
      "Segundo exón: TCATCGATCGATATCGATGCATCGACTACTAT\n"
     ]
    }
   ],
   "source": [
    "# 2. \n",
    "inicio_exon2 = 91\n",
    "\n",
    "exon2 = genomic_dna[inicio_exon2:]\n",
    "\n",
    "print(\"Segundo exón: \" + exon2)"
   ]
  },
  {
   "cell_type": "code",
   "execution_count": 39,
   "metadata": {},
   "outputs": [
    {
     "name": "stdout",
     "output_type": "stream",
     "text": [
      "Porcentaje región codificante: 78.05%\n"
     ]
    }
   ],
   "source": [
    "# 3. \n",
    "longitud_dna = len(genomic_dna)\n",
    "longitud_exon1 = len(exon1)\n",
    "longitud_exon2 = len(exon2)\n",
    "\n",
    "porcentaje_region_codificante = (longitud_exon1 + longitud_exon2) / longitud_dna *100\n",
    "\n",
    "print(\"Porcentaje región codificante: {:.2f}%\".format(porcentaje_region_codificante))"
   ]
  },
  {
   "cell_type": "code",
   "execution_count": 51,
   "metadata": {},
   "outputs": [
    {
     "name": "stdout",
     "output_type": "stream",
     "text": [
      "Nueva secuencia:ATCGATCGATCGATCGACTGACTAGTCATAGCTATGCATGTAGCTACTCGATCGATCGATCGATcgatcgatcgatcgatcgatcatgctatcatcgatcgatatcgatgcatcgactactatatcgatcgatcgatcgactgactagtcatagctatgcatgtagctactcgatcgatcgatcgatcgatcgatcgatcgatcgatcatgctaTCATCGATCGATATCGATGCATCGACTACTAT\n"
     ]
    }
   ],
   "source": [
    "# 4. \n",
    "secuencia_cambiada = \"\"\n",
    "\n",
    "for i in range(len(genomic_dna)):\n",
    "    if i >= inicio_exon1 and i <= fin_exon1:\n",
    "        secuencia_cambiada += genomic_dna[i].upper() \n",
    "    else:\n",
    "        secuencia_cambiada += genomic_dna[i].lower()  \n",
    "\n",
    "for i in range(len(genomic_dna)):\n",
    "    if i >= inicio_exon2:\n",
    "        secuencia_cambiada += genomic_dna[i].upper()\n",
    "    else:\n",
    "        secuencia_cambiada += genomic_dna[i].lower()\n",
    "\n",
    "print(\"Nueva secuencia:\" + secuencia_cambiada)"
   ]
  },
  {
   "cell_type": "markdown",
   "metadata": {},
   "source": [
    "##\n",
    "### 4.- ESCRIBE UN ARCHIVO FASTA\n",
    "#### Escribe un archivo FASTA que tenga las siguientes secuencias:\n",
    "1. ABC123 \tATCGTACGATCGATCGATCGCTAGACGTATCG\n",
    "2. DEF456 \tactgatcgacgatcgatcgatcacgact\n",
    "3. HIJ789 \tACTGAC-ACTGT--ACTGTA----CATGTG\n",
    "\n",
    "###### *Ten en cuenta que todas las secuencias deben tener solo ATGC caracteres y tienen que estar en mayúsculas\n",
    "###### Recuerda que las secuencias en FASTA empiezan por una línea \">identificador\" y la siguiente línea tiene la secuencia\n",
    "\n",
    "###### >ABC123\n",
    "###### ATCGTACGATCGATCGATCGCTAGACGTATCG\n",
    "###### >DEF456\n",
    "###### ACTGATCGACGATCGATCGATCACGACT\n",
    "###### >HIJ789\n",
    "###### ACTGACACTGTACTGTACATGTG"
   ]
  },
  {
   "cell_type": "code",
   "execution_count": 52,
   "metadata": {},
   "outputs": [
    {
     "name": "stdout",
     "output_type": "stream",
     "text": [
      "ABC123\n",
      "ATCGTACGATCGATCGATCGCTAGACGTATCG\n",
      "DEF456\n",
      "actgatcgacgatcgatcgatcacgact\n",
      "HIJ789\n",
      "ACTGAC-ACTGT--ACTGTA----CATGTG\n"
     ]
    }
   ],
   "source": [
    "d={\n",
    "    'ABC123' :'ATCGTACGATCGATCGATCGCTAGACGTATCG',\n",
    "    'DEF456' : 'actgatcgacgatcgatcgatcacgact',\n",
    "    'HIJ789' : 'ACTGAC-ACTGT--ACTGTA----CATGTG'\n",
    "}\n",
    "\n",
    "for key in d.keys():\n",
    "    print(key)\n",
    "    print(d[key])"
   ]
  },
  {
   "cell_type": "code",
   "execution_count": 61,
   "metadata": {},
   "outputs": [],
   "source": [
    "secuencia1 = \"ATCGTACGATCGATCGATCGCTAGACGTATCG\"\n",
    "secuencia2 = \"actgatcgacgatcgatcgatcacgact\"\n",
    "secuencia3 = \"ACTGAC-ACTGT--ACTGTA----CATGTG\""
   ]
  },
  {
   "cell_type": "code",
   "execution_count": 63,
   "metadata": {},
   "outputs": [],
   "source": [
    "secuencia2 = secuencia2.upper()"
   ]
  },
  {
   "cell_type": "code",
   "execution_count": 65,
   "metadata": {},
   "outputs": [],
   "source": [
    "with open(\"secuencias.fasta\", \"w\") as archivo_fasta:\n",
    "    archivo_fasta.write(\">ABC123\\n\" + secuencia1 + \"\\n\")\n",
    "    archivo_fasta.write(\">DEF456\\n\" + secuencia2 + \"\\n\")\n",
    "    archivo_fasta.write(\">HIJ789\\n\" + secuencia3 + \"\\n\")"
   ]
  },
  {
   "cell_type": "markdown",
   "metadata": {},
   "source": [
    "##\n",
    "### 5.- ELIMINA ADAPTADORES\n",
    "#### El archivo input.txt tiene unas secuencias de ADN, una por línea. \n",
    "#### Todas las secuencias empiezan con el mismo adaptador que llega hasta la base 14. Escribe un programa que:\n",
    "1. Remueva el adaptador de la secuencia y escriba la secuencia limpia en un archivo\n",
    "2. Imprima en pantalla la longitud de cada secuencia limpia"
   ]
  },
  {
   "cell_type": "code",
   "execution_count": 67,
   "metadata": {},
   "outputs": [],
   "source": [
    "# 1. \n",
    "archivo_entrada = \"input.txt\"\n",
    "archivo_salida = \"secuencias_limpias.txt\"\n",
    "\n",
    "def remover_adaptador_y_escribir_secuencia_limpia(entrada, salida):\n",
    "    with open(entrada, \"r\") as file_in, open(salida, \"w\") as file_out:\n",
    "        for linea in file_in:\n",
    "            secuencia_limpia = linea[14:].strip() \n",
    "            file_out.write(secuencia_limpia + \"\\n\")\n",
    "\n",
    "remover_adaptador_y_escribir_secuencia_limpia(archivo_entrada, archivo_salida)\n"
   ]
  },
  {
   "cell_type": "code",
   "execution_count": 70,
   "metadata": {},
   "outputs": [
    {
     "name": "stdout",
     "output_type": "stream",
     "text": [
      "Longitud de la secuencia limpia: 42\n",
      "Longitud de la secuencia limpia: 37\n",
      "Longitud de la secuencia limpia: 48\n",
      "Longitud de la secuencia limpia: 33\n",
      "Longitud de la secuencia limpia: 47\n"
     ]
    }
   ],
   "source": [
    "# 2. \n",
    "def mostrar_longitud_secuencias_limpias(archivo):\n",
    "    with open(archivo, \"r\") as file_in:\n",
    "        for linea in file_in:\n",
    "            secuencia_limpia = linea.strip()\n",
    "            longitud = len(secuencia_limpia)\n",
    "            print(\"Longitud de la secuencia limpia:\", longitud)\n",
    "\n",
    "mostrar_longitud_secuencias_limpias(archivo_salida)"
   ]
  },
  {
   "cell_type": "markdown",
   "metadata": {},
   "source": [
    "##\n",
    "### 6.- PORCENTAJE DE AMINO ACIDOS\n",
    "#### Escribe una función que tome dos argumentos: una secuencia de proteínas y un amino ácido. \n",
    "#### Queremos que devuelva el porcentaje del amino ácido en la secuencia de proteínas. \n",
    "#### Una vez que tengas hecha tu función, emplea las siguientes aserciones para comprobar tu código."
   ]
  },
  {
   "cell_type": "code",
   "execution_count": 2,
   "metadata": {},
   "outputs": [],
   "source": [
    "def calcular_porcentaje_aminoacido(secuencia_proteina, aminoacido):\n",
    "    secuencia_proteina = secuencia_proteina.upper()  \n",
    "    aminoacido = aminoacido.upper()  \n",
    "    if aminoacido not in \"ACDEFGHIKLMNPQRSTVWY\": \n",
    "        return 0.0\n",
    "    \n",
    "    total_aminoacidos = len(secuencia_proteina)\n",
    "    cantidad_aminoacido = secuencia_proteina.count(aminoacido)\n",
    "    porcentaje = (cantidad_aminoacido / total_aminoacidos) * 100\n",
    "    return porcentaje"
   ]
  },
  {
   "cell_type": "code",
   "execution_count": 3,
   "metadata": {},
   "outputs": [
    {
     "name": "stdout",
     "output_type": "stream",
     "text": [
      "El porcentaje de M en la secuencia de proteínas es: 5.00%\n",
      "El porcentaje de r en la secuencia de proteínas es: 10.00%\n",
      "El porcentaje de L en la secuencia de proteínas es: 50.00%\n",
      "El porcentaje de Y en la secuencia de proteínas es: 0.00%\n"
     ]
    }
   ],
   "source": [
    "secuencia_proteina1 = \"MSRSLLLRFLLFLLLLPPLP\"\n",
    "aminoacido1 = \"M\"\n",
    "porcentaje = calcular_porcentaje_aminoacido(secuencia_proteina1, aminoacido1)\n",
    "\n",
    "print(f\"El porcentaje de {aminoacido1} en la secuencia de proteínas es: {porcentaje:.2f}%\")\n",
    "\n",
    "secuencia_proteina2 = \"MSRSLLLRFLLFLLLLPPLP\"\n",
    "aminoacido2 = \"r\"\n",
    "porcentaje = calcular_porcentaje_aminoacido(secuencia_proteina2, aminoacido2)\n",
    "\n",
    "print(f\"El porcentaje de {aminoacido2} en la secuencia de proteínas es: {porcentaje:.2f}%\")\n",
    "\n",
    "secuencia_proteina3 = \"msrslllrfllfllllpplp\"\n",
    "aminoacido3 = \"L\"\n",
    "porcentaje = calcular_porcentaje_aminoacido(secuencia_proteina3, aminoacido3)\n",
    "\n",
    "print(f\"El porcentaje de {aminoacido3} en la secuencia de proteínas es: {porcentaje:.2f}%\")\n",
    "\n",
    "secuencia_proteina4 = \"MSRSLLLRFLLFLLLLPPLP\"\n",
    "aminoacido4 = \"Y\"\n",
    "porcentaje = calcular_porcentaje_aminoacido(secuencia_proteina4, aminoacido4)\n",
    "\n",
    "print(f\"El porcentaje de {aminoacido4} en la secuencia de proteínas es: {porcentaje:.2f}%\")\n"
   ]
  },
  {
   "cell_type": "code",
   "execution_count": 4,
   "metadata": {
    "scrolled": true
   },
   "outputs": [
    {
     "ename": "NameError",
     "evalue": "name 'my_function' is not defined",
     "output_type": "error",
     "traceback": [
      "\u001b[0;31m---------------------------------------------------------------------------\u001b[0m",
      "\u001b[0;31mNameError\u001b[0m                                 Traceback (most recent call last)",
      "Cell \u001b[0;32mIn[4], line 1\u001b[0m\n\u001b[0;32m----> 1\u001b[0m \u001b[38;5;28;01massert\u001b[39;00m my_function(\u001b[38;5;124m\"\u001b[39m\u001b[38;5;124mMSRSLLLRFLLFLLLLPPLP\u001b[39m\u001b[38;5;124m\"\u001b[39m, \u001b[38;5;124m\"\u001b[39m\u001b[38;5;124mM\u001b[39m\u001b[38;5;124m\"\u001b[39m) \u001b[38;5;241m==\u001b[39m \u001b[38;5;241m5\u001b[39m\n\u001b[1;32m      2\u001b[0m \u001b[38;5;28;01massert\u001b[39;00m my_function(\u001b[38;5;124m\"\u001b[39m\u001b[38;5;124mMSRSLLLRFLLFLLLLPPLP\u001b[39m\u001b[38;5;124m\"\u001b[39m, \u001b[38;5;124m\"\u001b[39m\u001b[38;5;124mr\u001b[39m\u001b[38;5;124m\"\u001b[39m) \u001b[38;5;241m==\u001b[39m \u001b[38;5;241m10\u001b[39m\n\u001b[1;32m      3\u001b[0m \u001b[38;5;28;01massert\u001b[39;00m my_function(\u001b[38;5;124m\"\u001b[39m\u001b[38;5;124mmsrslllrfllfllllpplp\u001b[39m\u001b[38;5;124m\"\u001b[39m, \u001b[38;5;124m\"\u001b[39m\u001b[38;5;124mL\u001b[39m\u001b[38;5;124m\"\u001b[39m) \u001b[38;5;241m==\u001b[39m \u001b[38;5;241m50\u001b[39m\n",
      "\u001b[0;31mNameError\u001b[0m: name 'my_function' is not defined"
     ]
    }
   ],
   "source": [
    "assert my_function(\"MSRSLLLRFLLFLLLLPPLP\", \"M\") == 5\n",
    "assert my_function(\"MSRSLLLRFLLFLLLLPPLP\", \"r\") == 10\n",
    "assert my_function(\"msrslllrfllfllllpplp\", \"L\") == 50\n",
    "assert my_function(\"MSRSLLLRFLLFLLLLPPLP\", \"Y\") == 0"
   ]
  }
 ],
 "metadata": {
  "kernelspec": {
   "display_name": "Python 3 (ipykernel)",
   "language": "python",
   "name": "python3"
  },
  "language_info": {
   "codemirror_mode": {
    "name": "ipython",
    "version": 3
   },
   "file_extension": ".py",
   "mimetype": "text/x-python",
   "name": "python",
   "nbconvert_exporter": "python",
   "pygments_lexer": "ipython3",
   "version": "3.11.4"
  }
 },
 "nbformat": 4,
 "nbformat_minor": 4
}
